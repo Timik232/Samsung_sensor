{
 "cells": [
  {
   "cell_type": "code",
   "execution_count": 2,
   "metadata": {},
   "outputs": [],
   "source": [
    "import requests"
   ]
  },
  {
   "cell_type": "code",
   "execution_count": null,
   "metadata": {},
   "outputs": [],
   "source": [
    "https://data.sensor.community/airrohr/v1/filter/box=50.0,30.0,60.0,80.0&country=RU\n"
   ]
  },
  {
   "cell_type": "code",
   "execution_count": 2,
   "metadata": {
    "ExecuteTime": {
     "end_time": "2024-04-28T10:09:14.394482Z",
     "start_time": "2024-04-28T10:09:12.812509Z"
    }
   },
   "outputs": [],
   "source": [
    "import requests\n",
    "\n",
    "url = \"https://data.sensor.community/airrohr/v1/filter/area=55.77,37.592,10&country=RU\"\n",
    "\n",
    "response = requests.get(url)\n",
    "\n",
    "if response.status_code == 200:\n",
    "    data = response.json()\n",
    "    # обработка данных\n",
    "else:\n",
    "    print(\"Ошибка при получении данных\")"
   ]
  },
  {
   "cell_type": "code",
   "execution_count": 3,
   "metadata": {
    "ExecuteTime": {
     "end_time": "2024-04-28T10:09:17.696650Z",
     "start_time": "2024-04-28T10:09:17.690133Z"
    }
   },
   "outputs": [
    {
     "data": {
      "text/plain": "221"
     },
     "execution_count": 3,
     "metadata": {},
     "output_type": "execute_result"
    }
   ],
   "source": [
    "len(data)"
   ]
  },
  {
   "cell_type": "code",
   "execution_count": 4,
   "metadata": {
    "ExecuteTime": {
     "end_time": "2024-04-28T10:09:20.269843Z",
     "start_time": "2024-04-28T10:09:19.990541Z"
    }
   },
   "outputs": [
    {
     "ename": "IndexError",
     "evalue": "list index out of range",
     "output_type": "error",
     "traceback": [
      "\u001B[1;31m---------------------------------------------------------------------------\u001B[0m",
      "\u001B[1;31mIndexError\u001B[0m                                Traceback (most recent call last)",
      "Cell \u001B[1;32mIn[4], line 1\u001B[0m\n\u001B[1;32m----> 1\u001B[0m \u001B[43mdata\u001B[49m\u001B[43m[\u001B[49m\u001B[38;5;241;43m240\u001B[39;49m\u001B[43m]\u001B[49m\n",
      "\u001B[1;31mIndexError\u001B[0m: list index out of range"
     ]
    }
   ],
   "source": [
    "data[240]"
   ]
  },
  {
   "cell_type": "code",
   "execution_count": 5,
   "metadata": {
    "ExecuteTime": {
     "end_time": "2024-04-28T10:09:27.753907Z",
     "start_time": "2024-04-28T10:09:25.816532Z"
    }
   },
   "outputs": [],
   "source": [
    "import requests\n",
    "import pandas as pd\n",
    "\n",
    "url = \"https://data.sensor.community/airrohr/v1/filter/box=50.0,30.0,60.0,80.0&country=RU\"\n",
    "\n",
    "response = requests.get(url)\n",
    "\n",
    "if response.status_code == 200:\n",
    "    data = response.json()\n",
    "    df = pd.DataFrame([{'id': sd['id'],\n",
    "                        'value_type': sdv['value_type'],\n",
    "                        'value': sdv['value'],\n",
    "                        'long': sd['location']['longitude'],\n",
    "                        'lat': sd['location']['latitude'],\n",
    "                        'indoor': sd['location']['indoor']}\n",
    "                       for sd in data for sdv in sd['sensordatavalues']])\n",
    "\n",
    "else:\n",
    "    print(\"Ошибка при получении данных\")"
   ]
  },
  {
   "cell_type": "code",
   "execution_count": 6,
   "metadata": {
    "ExecuteTime": {
     "end_time": "2024-04-28T10:09:28.911331Z",
     "start_time": "2024-04-28T10:09:28.900012Z"
    }
   },
   "outputs": [
    {
     "data": {
      "text/plain": "               id            value_type      value    long     lat  indoor\n0     20233449510           temperature      19.08  37.894  59.134       0\n1     20233449510              pressure  101237.44  37.894  59.134       0\n2     20233449510              humidity      38.75  37.894  59.134       0\n3     20233449510  pressure_at_sealevel  102893.11  37.894  59.134       0\n4     20233449500                    P1       0.20  37.212  55.998       0\n...           ...                   ...        ...     ...     ...     ...\n3870  20233400696              pressure  100347.72  37.462  55.872       0\n3871  20233400696              humidity      27.41  37.462  55.872       0\n3872  20233400696  pressure_at_sealevel  102410.34  37.462  55.872       0\n3873  20233400567                    P1       1.60   38.76  55.096       0\n3874  20233400567                    P2       1.23   38.76  55.096       0\n\n[3875 rows x 6 columns]",
      "text/html": "<div>\n<style scoped>\n    .dataframe tbody tr th:only-of-type {\n        vertical-align: middle;\n    }\n\n    .dataframe tbody tr th {\n        vertical-align: top;\n    }\n\n    .dataframe thead th {\n        text-align: right;\n    }\n</style>\n<table border=\"1\" class=\"dataframe\">\n  <thead>\n    <tr style=\"text-align: right;\">\n      <th></th>\n      <th>id</th>\n      <th>value_type</th>\n      <th>value</th>\n      <th>long</th>\n      <th>lat</th>\n      <th>indoor</th>\n    </tr>\n  </thead>\n  <tbody>\n    <tr>\n      <th>0</th>\n      <td>20233449510</td>\n      <td>temperature</td>\n      <td>19.08</td>\n      <td>37.894</td>\n      <td>59.134</td>\n      <td>0</td>\n    </tr>\n    <tr>\n      <th>1</th>\n      <td>20233449510</td>\n      <td>pressure</td>\n      <td>101237.44</td>\n      <td>37.894</td>\n      <td>59.134</td>\n      <td>0</td>\n    </tr>\n    <tr>\n      <th>2</th>\n      <td>20233449510</td>\n      <td>humidity</td>\n      <td>38.75</td>\n      <td>37.894</td>\n      <td>59.134</td>\n      <td>0</td>\n    </tr>\n    <tr>\n      <th>3</th>\n      <td>20233449510</td>\n      <td>pressure_at_sealevel</td>\n      <td>102893.11</td>\n      <td>37.894</td>\n      <td>59.134</td>\n      <td>0</td>\n    </tr>\n    <tr>\n      <th>4</th>\n      <td>20233449500</td>\n      <td>P1</td>\n      <td>0.20</td>\n      <td>37.212</td>\n      <td>55.998</td>\n      <td>0</td>\n    </tr>\n    <tr>\n      <th>...</th>\n      <td>...</td>\n      <td>...</td>\n      <td>...</td>\n      <td>...</td>\n      <td>...</td>\n      <td>...</td>\n    </tr>\n    <tr>\n      <th>3870</th>\n      <td>20233400696</td>\n      <td>pressure</td>\n      <td>100347.72</td>\n      <td>37.462</td>\n      <td>55.872</td>\n      <td>0</td>\n    </tr>\n    <tr>\n      <th>3871</th>\n      <td>20233400696</td>\n      <td>humidity</td>\n      <td>27.41</td>\n      <td>37.462</td>\n      <td>55.872</td>\n      <td>0</td>\n    </tr>\n    <tr>\n      <th>3872</th>\n      <td>20233400696</td>\n      <td>pressure_at_sealevel</td>\n      <td>102410.34</td>\n      <td>37.462</td>\n      <td>55.872</td>\n      <td>0</td>\n    </tr>\n    <tr>\n      <th>3873</th>\n      <td>20233400567</td>\n      <td>P1</td>\n      <td>1.60</td>\n      <td>38.76</td>\n      <td>55.096</td>\n      <td>0</td>\n    </tr>\n    <tr>\n      <th>3874</th>\n      <td>20233400567</td>\n      <td>P2</td>\n      <td>1.23</td>\n      <td>38.76</td>\n      <td>55.096</td>\n      <td>0</td>\n    </tr>\n  </tbody>\n</table>\n<p>3875 rows × 6 columns</p>\n</div>"
     },
     "execution_count": 6,
     "metadata": {},
     "output_type": "execute_result"
    }
   ],
   "source": [
    "df"
   ]
  },
  {
   "cell_type": "code",
   "execution_count": 38,
   "metadata": {},
   "outputs": [],
   "source": [
    "import requests\n",
    "import pandas as pd\n",
    "\n",
    "url = \"https://data.sensor.community/airrohr/v1/filter/box=50.0,30.0,60.0,80.0&country=RU\"\n",
    "\n",
    "response = requests.get(url)\n",
    "\n",
    "if response.status_code == 200:\n",
    "    data = response.json()\n",
    "    df = pd.DataFrame([{'id': sd['id'],\n",
    "                        'value_type': sdv['value_type'],\n",
    "                        'value': sdv['value'],\n",
    "                        'long': sd['location']['longitude'],\n",
    "                        'lat': sd['location']['latitude'],\n",
    "                        'indoor': sd['location']['indoor']}\n",
    "                       for sd in data for sdv in sd['sensordatavalues']])\n",
    "    df_pivot = df.pivot_table(index=['id', 'long', 'lat', 'indoor'], columns='value_type', values='value', aggfunc='first')\n",
    "    # обработка данных\n",
    "else:\n",
    "    print(\"Ошибка при получении данных\")"
   ]
  },
  {
   "cell_type": "code",
   "execution_count": 39,
   "metadata": {},
   "outputs": [
    {
     "data": {
      "text/html": [
       "<div>\n",
       "<style scoped>\n",
       "    .dataframe tbody tr th:only-of-type {\n",
       "        vertical-align: middle;\n",
       "    }\n",
       "\n",
       "    .dataframe tbody tr th {\n",
       "        vertical-align: top;\n",
       "    }\n",
       "\n",
       "    .dataframe thead th {\n",
       "        text-align: right;\n",
       "    }\n",
       "</style>\n",
       "<table border=\"1\" class=\"dataframe\">\n",
       "  <thead>\n",
       "    <tr style=\"text-align: right;\">\n",
       "      <th></th>\n",
       "      <th>id</th>\n",
       "      <th>value_type</th>\n",
       "      <th>value</th>\n",
       "      <th>long</th>\n",
       "      <th>lat</th>\n",
       "      <th>indoor</th>\n",
       "    </tr>\n",
       "  </thead>\n",
       "  <tbody>\n",
       "    <tr>\n",
       "      <th>0</th>\n",
       "      <td>20232750773</td>\n",
       "      <td>temperature</td>\n",
       "      <td>21.30</td>\n",
       "      <td>73.44353675900</td>\n",
       "      <td>54.96364028899</td>\n",
       "      <td>0</td>\n",
       "    </tr>\n",
       "    <tr>\n",
       "      <th>1</th>\n",
       "      <td>20232750773</td>\n",
       "      <td>humidity</td>\n",
       "      <td>50.92</td>\n",
       "      <td>73.44353675900</td>\n",
       "      <td>54.96364028899</td>\n",
       "      <td>0</td>\n",
       "    </tr>\n",
       "    <tr>\n",
       "      <th>2</th>\n",
       "      <td>20232750767</td>\n",
       "      <td>temperature</td>\n",
       "      <td>31.89</td>\n",
       "      <td>30.35618662700</td>\n",
       "      <td>59.92415315824</td>\n",
       "      <td>0</td>\n",
       "    </tr>\n",
       "    <tr>\n",
       "      <th>3</th>\n",
       "      <td>20232750767</td>\n",
       "      <td>pressure</td>\n",
       "      <td>102307.00</td>\n",
       "      <td>30.35618662700</td>\n",
       "      <td>59.92415315824</td>\n",
       "      <td>0</td>\n",
       "    </tr>\n",
       "    <tr>\n",
       "      <th>4</th>\n",
       "      <td>20232750767</td>\n",
       "      <td>humidity</td>\n",
       "      <td>17.32</td>\n",
       "      <td>30.35618662700</td>\n",
       "      <td>59.92415315824</td>\n",
       "      <td>0</td>\n",
       "    </tr>\n",
       "    <tr>\n",
       "      <th>...</th>\n",
       "      <td>...</td>\n",
       "      <td>...</td>\n",
       "      <td>...</td>\n",
       "      <td>...</td>\n",
       "      <td>...</td>\n",
       "      <td>...</td>\n",
       "    </tr>\n",
       "    <tr>\n",
       "      <th>3979</th>\n",
       "      <td>20232701533</td>\n",
       "      <td>noise_LA_max</td>\n",
       "      <td>72.00</td>\n",
       "      <td>37.816</td>\n",
       "      <td>55.706</td>\n",
       "      <td>0</td>\n",
       "    </tr>\n",
       "    <tr>\n",
       "      <th>3980</th>\n",
       "      <td>20232701515</td>\n",
       "      <td>P1</td>\n",
       "      <td>0.32</td>\n",
       "      <td>37.816</td>\n",
       "      <td>55.706</td>\n",
       "      <td>0</td>\n",
       "    </tr>\n",
       "    <tr>\n",
       "      <th>3981</th>\n",
       "      <td>20232701515</td>\n",
       "      <td>P2</td>\n",
       "      <td>0.22</td>\n",
       "      <td>37.816</td>\n",
       "      <td>55.706</td>\n",
       "      <td>0</td>\n",
       "    </tr>\n",
       "    <tr>\n",
       "      <th>3982</th>\n",
       "      <td>20232701511</td>\n",
       "      <td>P1</td>\n",
       "      <td>1.95</td>\n",
       "      <td>30.27152400000</td>\n",
       "      <td>50.55604700000</td>\n",
       "      <td>0</td>\n",
       "    </tr>\n",
       "    <tr>\n",
       "      <th>3983</th>\n",
       "      <td>20232701511</td>\n",
       "      <td>P2</td>\n",
       "      <td>0.63</td>\n",
       "      <td>30.27152400000</td>\n",
       "      <td>50.55604700000</td>\n",
       "      <td>0</td>\n",
       "    </tr>\n",
       "  </tbody>\n",
       "</table>\n",
       "<p>3984 rows × 6 columns</p>\n",
       "</div>"
      ],
      "text/plain": [
       "               id    value_type      value            long             lat  \\\n",
       "0     20232750773   temperature      21.30  73.44353675900  54.96364028899   \n",
       "1     20232750773      humidity      50.92  73.44353675900  54.96364028899   \n",
       "2     20232750767   temperature      31.89  30.35618662700  59.92415315824   \n",
       "3     20232750767      pressure  102307.00  30.35618662700  59.92415315824   \n",
       "4     20232750767      humidity      17.32  30.35618662700  59.92415315824   \n",
       "...           ...           ...        ...             ...             ...   \n",
       "3979  20232701533  noise_LA_max      72.00          37.816          55.706   \n",
       "3980  20232701515            P1       0.32          37.816          55.706   \n",
       "3981  20232701515            P2       0.22          37.816          55.706   \n",
       "3982  20232701511            P1       1.95  30.27152400000  50.55604700000   \n",
       "3983  20232701511            P2       0.63  30.27152400000  50.55604700000   \n",
       "\n",
       "      indoor  \n",
       "0          0  \n",
       "1          0  \n",
       "2          0  \n",
       "3          0  \n",
       "4          0  \n",
       "...      ...  \n",
       "3979       0  \n",
       "3980       0  \n",
       "3981       0  \n",
       "3982       0  \n",
       "3983       0  \n",
       "\n",
       "[3984 rows x 6 columns]"
      ]
     },
     "execution_count": 39,
     "metadata": {},
     "output_type": "execute_result"
    }
   ],
   "source": [
    "df"
   ]
  },
  {
   "cell_type": "code",
   "execution_count": 12,
   "metadata": {
    "ExecuteTime": {
     "end_time": "2024-04-28T10:11:47.035360Z",
     "start_time": "2024-04-28T10:11:47.020078Z"
    }
   },
   "outputs": [
    {
     "name": "stdout",
     "output_type": "stream",
     "text": [
      "               id            long             lat  indoor   P0    P1    P2  \\\n",
      "0     20233400567           38.76          55.096       0  NaN  1.60  1.23   \n",
      "1     20233400696          37.462          55.872       0  NaN   NaN   NaN   \n",
      "2     20233400733  37.52009943994  55.87517995000       0  NaN  1.58  1.17   \n",
      "3     20233400813          37.632          54.228       0  NaN   NaN   NaN   \n",
      "4     20233400842          37.782          55.798       0  NaN  7.47  3.83   \n",
      "...           ...             ...             ...     ...  ...   ...   ...   \n",
      "1385  20233449429          37.664          55.536       0  NaN   NaN   NaN   \n",
      "1386  20233449442  37.54126489064  55.59101044569       0  NaN   NaN   NaN   \n",
      "1387  20233449492          37.904           59.12       0  NaN   NaN   NaN   \n",
      "1388  20233449500          37.212          55.998       0  NaN  0.20  0.20   \n",
      "1389  20233449510          37.894          59.134       0  NaN   NaN   NaN   \n",
      "\n",
      "     counts_per_minute  humidity noise_LA_max noise_LA_min noise_LAeq  \\\n",
      "0                  NaN       NaN          NaN          NaN        NaN   \n",
      "1                  NaN     27.41          NaN          NaN        NaN   \n",
      "2                  NaN       NaN          NaN          NaN        NaN   \n",
      "3                  NaN  31.56543          NaN          NaN        NaN   \n",
      "4                  NaN       NaN          NaN          NaN        NaN   \n",
      "...                ...       ...          ...          ...        ...   \n",
      "1385               NaN     37.94          NaN          NaN        NaN   \n",
      "1386               NaN     36.72          NaN          NaN        NaN   \n",
      "1387               NaN     38.38          NaN          NaN        NaN   \n",
      "1388               NaN       NaN          NaN          NaN        NaN   \n",
      "1389               NaN     38.75          NaN          NaN        NaN   \n",
      "\n",
      "       pressure pressure_at_sealevel temperature  \n",
      "0           NaN                  NaN         NaN  \n",
      "1     100347.72            102410.34       21.58  \n",
      "2           NaN                  NaN         NaN  \n",
      "3      1003.403              1024.71       17.79  \n",
      "4           NaN                  NaN         NaN  \n",
      "...         ...                  ...         ...  \n",
      "1385  100855.22            102758.33       21.60  \n",
      "1386   99645.72            102043.66       15.92  \n",
      "1387  101358.66            102927.64       18.39  \n",
      "1388        NaN                  NaN         NaN  \n",
      "1389  101237.44            102893.11       19.08  \n",
      "\n",
      "[1390 rows x 15 columns]\n"
     ]
    }
   ],
   "source": [
    "import pandas as pd\n",
    "\n",
    "\n",
    "df_pivot = df.pivot(index=['id', 'long', 'lat', 'indoor'], columns='value_type', values='value')\n",
    "\n",
    "# Если нужно, можно сбросить индексы и переименовать столбцы\n",
    "df_pivot = df_pivot.reset_index()\n",
    "df_pivot.columns.name = None\n",
    "\n",
    "print(df_pivot)"
   ]
  },
  {
   "cell_type": "code",
   "execution_count": 11,
   "metadata": {
    "ExecuteTime": {
     "end_time": "2024-04-28T10:11:42.111863Z",
     "start_time": "2024-04-28T10:11:42.103579Z"
    }
   },
   "outputs": [
    {
     "name": "stdout",
     "output_type": "stream",
     "text": [
      "<class 'pandas.core.frame.DataFrame'>\n",
      "RangeIndex: 1390 entries, 0 to 1389\n",
      "Data columns (total 15 columns):\n",
      " #   Column                Non-Null Count  Dtype \n",
      "---  ------                --------------  ----- \n",
      " 0   id                    1390 non-null   int64 \n",
      " 1   long                  1390 non-null   object\n",
      " 2   lat                   1390 non-null   object\n",
      " 3   indoor                1390 non-null   int64 \n",
      " 4   P0                    73 non-null     object\n",
      " 5   P1                    777 non-null    object\n",
      " 6   P2                    777 non-null    object\n",
      " 7   counts_per_minute     2 non-null      object\n",
      " 8   humidity              551 non-null    object\n",
      " 9   noise_LA_max          47 non-null     object\n",
      " 10  noise_LA_min          47 non-null     object\n",
      " 11  noise_LAeq            47 non-null     object\n",
      " 12  pressure              496 non-null    object\n",
      " 13  pressure_at_sealevel  494 non-null    object\n",
      " 14  temperature           564 non-null    object\n",
      "dtypes: int64(2), object(13)\n",
      "memory usage: 163.0+ KB\n"
     ]
    }
   ],
   "source": [
    "df_pivot.info()"
   ]
  },
  {
   "cell_type": "code",
   "outputs": [
    {
     "data": {
      "text/plain": "Index(['id', 'long', 'lat', 'indoor', 'P0', 'P1', 'P2', 'counts_per_minute',\n       'humidity', 'noise_LA_max', 'noise_LA_min', 'noise_LAeq', 'pressure',\n       'pressure_at_sealevel', 'temperature'],\n      dtype='object')"
     },
     "execution_count": 14,
     "metadata": {},
     "output_type": "execute_result"
    }
   ],
   "source": [
    "df_pivot.columns"
   ],
   "metadata": {
    "collapsed": false,
    "ExecuteTime": {
     "end_time": "2024-04-28T10:12:29.776247Z",
     "start_time": "2024-04-28T10:12:29.770752Z"
    }
   },
   "execution_count": 14
  },
  {
   "cell_type": "code",
   "outputs": [
    {
     "name": "stderr",
     "output_type": "stream",
     "text": [
      "C:\\Users\\user\\AppData\\Local\\Temp\\ipykernel_20736\\1524169243.py:1: FutureWarning: Downcasting object dtype arrays on .fillna, .ffill, .bfill is deprecated and will change in a future version. Call result.infer_objects(copy=False) instead. To opt-in to the future behavior, set `pd.set_option('future.no_silent_downcasting', True)`\n",
      "  df_pivot_dropped = df_pivot.fillna(0)\n"
     ]
    }
   ],
   "source": [
    "df_pivot_dropped = df_pivot.fillna(0)"
   ],
   "metadata": {
    "collapsed": false,
    "ExecuteTime": {
     "end_time": "2024-04-28T10:19:02.353360Z",
     "start_time": "2024-04-28T10:19:02.347142Z"
    }
   },
   "execution_count": 25
  },
  {
   "cell_type": "code",
   "outputs": [],
   "source": [
    "df_pivot_numeric = df_pivot.apply(pd.to_numeric, errors='coerce')"
   ],
   "metadata": {
    "collapsed": false,
    "ExecuteTime": {
     "end_time": "2024-04-28T10:26:39.918901Z",
     "start_time": "2024-04-28T10:26:39.909165Z"
    }
   },
   "execution_count": 28
  },
  {
   "cell_type": "code",
   "outputs": [
    {
     "data": {
      "text/plain": "                 id         long          lat       indoor         P0  \\\ncount  1.390000e+03  1390.000000  1390.000000  1390.000000  73.000000   \nmean   2.023343e+10    41.354197    55.537915     0.028777   4.580822   \nstd    1.403096e+04    10.938604     1.922593     0.167239   4.826415   \nmin    2.023340e+10    30.112726    50.218826     0.000000   0.000000   \n25%    2.023341e+10    37.460000    55.179056     0.000000   2.100000   \n50%    2.023343e+10    37.668000    55.706000     0.000000   4.000000   \n75%    2.023344e+10    38.838000    55.875180     0.000000   6.000000   \nmax    2.023345e+10    73.504000    59.995300     1.000000  27.000000   \n\n               P1          P2  counts_per_minute    humidity  noise_LA_max  \\\ncount  777.000000  777.000000           2.000000  543.000000     47.000000   \nmean     7.026203    2.927812          13.650000   43.518267     69.658298   \nstd     17.823077    5.784655           6.151829   20.106077     14.725389   \nmin      0.000000    0.000000           9.300000    1.000000      5.000000   \n25%      2.530000    1.400000          11.475000   31.630000     70.155000   \n50%      4.380000    2.100000          13.650000   37.070000     73.010000   \n75%      7.100000    3.080000          15.825000   47.085000     76.275000   \nmax    453.770000  140.530000          18.000000  118.990000     82.950000   \n\n       noise_LA_min  noise_LAeq       pressure  pressure_at_sealevel  \\\ncount     47.000000   47.000000     496.000000            494.000000   \nmean      54.535745   61.260851   96914.887478          98636.646478   \nstd       12.646861   13.400600   17035.505755          17223.624320   \nmin        5.000000    5.000000  -23430.440000         -23779.050000   \n25%       50.815000   59.450000  100181.705000         102197.747500   \n50%       56.060000   65.390000  100791.255000         102556.460000   \n75%       61.660000   67.935000  101145.915000         102785.922500   \nmax       68.060000   71.030000  150630.590000         154981.880000   \n\n       temperature  \ncount   564.000000  \nmean     11.907766  \nstd      36.407582  \nmin    -149.770000  \n25%      16.920000  \n50%      19.105000  \n75%      21.600000  \nmax      38.260000  ",
      "text/html": "<div>\n<style scoped>\n    .dataframe tbody tr th:only-of-type {\n        vertical-align: middle;\n    }\n\n    .dataframe tbody tr th {\n        vertical-align: top;\n    }\n\n    .dataframe thead th {\n        text-align: right;\n    }\n</style>\n<table border=\"1\" class=\"dataframe\">\n  <thead>\n    <tr style=\"text-align: right;\">\n      <th></th>\n      <th>id</th>\n      <th>long</th>\n      <th>lat</th>\n      <th>indoor</th>\n      <th>P0</th>\n      <th>P1</th>\n      <th>P2</th>\n      <th>counts_per_minute</th>\n      <th>humidity</th>\n      <th>noise_LA_max</th>\n      <th>noise_LA_min</th>\n      <th>noise_LAeq</th>\n      <th>pressure</th>\n      <th>pressure_at_sealevel</th>\n      <th>temperature</th>\n    </tr>\n  </thead>\n  <tbody>\n    <tr>\n      <th>count</th>\n      <td>1.390000e+03</td>\n      <td>1390.000000</td>\n      <td>1390.000000</td>\n      <td>1390.000000</td>\n      <td>73.000000</td>\n      <td>777.000000</td>\n      <td>777.000000</td>\n      <td>2.000000</td>\n      <td>543.000000</td>\n      <td>47.000000</td>\n      <td>47.000000</td>\n      <td>47.000000</td>\n      <td>496.000000</td>\n      <td>494.000000</td>\n      <td>564.000000</td>\n    </tr>\n    <tr>\n      <th>mean</th>\n      <td>2.023343e+10</td>\n      <td>41.354197</td>\n      <td>55.537915</td>\n      <td>0.028777</td>\n      <td>4.580822</td>\n      <td>7.026203</td>\n      <td>2.927812</td>\n      <td>13.650000</td>\n      <td>43.518267</td>\n      <td>69.658298</td>\n      <td>54.535745</td>\n      <td>61.260851</td>\n      <td>96914.887478</td>\n      <td>98636.646478</td>\n      <td>11.907766</td>\n    </tr>\n    <tr>\n      <th>std</th>\n      <td>1.403096e+04</td>\n      <td>10.938604</td>\n      <td>1.922593</td>\n      <td>0.167239</td>\n      <td>4.826415</td>\n      <td>17.823077</td>\n      <td>5.784655</td>\n      <td>6.151829</td>\n      <td>20.106077</td>\n      <td>14.725389</td>\n      <td>12.646861</td>\n      <td>13.400600</td>\n      <td>17035.505755</td>\n      <td>17223.624320</td>\n      <td>36.407582</td>\n    </tr>\n    <tr>\n      <th>min</th>\n      <td>2.023340e+10</td>\n      <td>30.112726</td>\n      <td>50.218826</td>\n      <td>0.000000</td>\n      <td>0.000000</td>\n      <td>0.000000</td>\n      <td>0.000000</td>\n      <td>9.300000</td>\n      <td>1.000000</td>\n      <td>5.000000</td>\n      <td>5.000000</td>\n      <td>5.000000</td>\n      <td>-23430.440000</td>\n      <td>-23779.050000</td>\n      <td>-149.770000</td>\n    </tr>\n    <tr>\n      <th>25%</th>\n      <td>2.023341e+10</td>\n      <td>37.460000</td>\n      <td>55.179056</td>\n      <td>0.000000</td>\n      <td>2.100000</td>\n      <td>2.530000</td>\n      <td>1.400000</td>\n      <td>11.475000</td>\n      <td>31.630000</td>\n      <td>70.155000</td>\n      <td>50.815000</td>\n      <td>59.450000</td>\n      <td>100181.705000</td>\n      <td>102197.747500</td>\n      <td>16.920000</td>\n    </tr>\n    <tr>\n      <th>50%</th>\n      <td>2.023343e+10</td>\n      <td>37.668000</td>\n      <td>55.706000</td>\n      <td>0.000000</td>\n      <td>4.000000</td>\n      <td>4.380000</td>\n      <td>2.100000</td>\n      <td>13.650000</td>\n      <td>37.070000</td>\n      <td>73.010000</td>\n      <td>56.060000</td>\n      <td>65.390000</td>\n      <td>100791.255000</td>\n      <td>102556.460000</td>\n      <td>19.105000</td>\n    </tr>\n    <tr>\n      <th>75%</th>\n      <td>2.023344e+10</td>\n      <td>38.838000</td>\n      <td>55.875180</td>\n      <td>0.000000</td>\n      <td>6.000000</td>\n      <td>7.100000</td>\n      <td>3.080000</td>\n      <td>15.825000</td>\n      <td>47.085000</td>\n      <td>76.275000</td>\n      <td>61.660000</td>\n      <td>67.935000</td>\n      <td>101145.915000</td>\n      <td>102785.922500</td>\n      <td>21.600000</td>\n    </tr>\n    <tr>\n      <th>max</th>\n      <td>2.023345e+10</td>\n      <td>73.504000</td>\n      <td>59.995300</td>\n      <td>1.000000</td>\n      <td>27.000000</td>\n      <td>453.770000</td>\n      <td>140.530000</td>\n      <td>18.000000</td>\n      <td>118.990000</td>\n      <td>82.950000</td>\n      <td>68.060000</td>\n      <td>71.030000</td>\n      <td>150630.590000</td>\n      <td>154981.880000</td>\n      <td>38.260000</td>\n    </tr>\n  </tbody>\n</table>\n</div>"
     },
     "execution_count": 29,
     "metadata": {},
     "output_type": "execute_result"
    }
   ],
   "source": [
    "df_pivot_numeric.describe()"
   ],
   "metadata": {
    "collapsed": false,
    "ExecuteTime": {
     "end_time": "2024-04-28T10:26:53.316511Z",
     "start_time": "2024-04-28T10:26:53.280080Z"
    }
   },
   "execution_count": 29
  },
  {
   "cell_type": "code",
   "outputs": [],
   "source": [
    "# Определяем пороги для min и max\n",
    "min_threshold = df_pivot_numeric.quantile(0.05)\n",
    "max_threshold = df_pivot_numeric.quantile(0.95)\n",
    "\n",
    "# Фильтруем данные, оставляя только значения внутри порогов\n",
    "df_filtered = df_pivot_numeric[(df_pivot_numeric >= min_threshold) & (df_pivot_numeric <= max_threshold)]"
   ],
   "metadata": {
    "collapsed": false,
    "ExecuteTime": {
     "end_time": "2024-04-28T10:35:56.438287Z",
     "start_time": "2024-04-28T10:35:56.425729Z"
    }
   },
   "execution_count": 32
  },
  {
   "cell_type": "code",
   "outputs": [
    {
     "data": {
      "text/plain": "<Figure size 1000x600 with 1 Axes>",
      "image/png": "[encoded data removed]"
     },
     "metadata": {},
     "output_type": "display_data"
    }
   ],
   "source": [
    "import matplotlib.pyplot as plt\n",
    "\n",
    "# Предположим, что у вас есть данные data, которые содержат различные столбцы для построения графиков\n",
    "\n",
    "# Построение гистограммы для столбца 'column1'\n",
    "plt.figure(figsize=(10, 5))\n",
    "plt.subplot(2, 2, 1)\n",
    "plt.hist(data['column1'], bins=10, color='blue', alpha=0.7)\n",
    "plt.title('Гистограмма для column1')\n",
    "\n",
    "# Построение гистограммы для столбца 'column2'\n",
    "plt.subplot(2, 2, 2)\n",
    "plt.hist(data['column2'], bins=10, color='green', alpha=0.7)\n",
    "plt.title('Гистограмма для column2')\n",
    "\n",
    "# Построение гистограммы для столбца 'column3'\n",
    "plt.subplot(2, 2, 3)\n",
    "plt.hist(data['column3'], bins=10, color='red', alpha=0.7)\n",
    "plt.title('Гистограмма для column3')\n",
    "\n",
    "# Построение гистограммы для столбца 'column4'\n",
    "plt.subplot(2, 2, 4)\n",
    "plt.hist(data['column4'], bins=10, color='purple', alpha=0.7)\n",
    "plt.title('Гистограмма для column4')\n",
    "\n",
    "plt.tight_layout()\n",
    "plt.show()"
   ],
   "metadata": {
    "collapsed": false,
    "ExecuteTime": {
     "end_time": "2024-04-28T10:36:25.289661Z",
     "start_time": "2024-04-28T10:35:57.873329Z"
    }
   },
   "execution_count": 33
  },
  {
   "cell_type": "code",
   "execution_count": 59,
   "metadata": {},
   "outputs": [
    {
     "data": {
      "text/plain": [
       "array([nan, 101196.09, 102883.51, 102626.41, 63783.06, 102815.46,\n",
       "       62115.32, 102893.52, 102528.29, 102804.29, 102532.74, 102215.36,\n",
       "       102455.73, 102585.34, 102598.08, 102622.21, 102397.77, 102986.13,\n",
       "       102817.21, 102706.62, 102837.77, 102957.52, 102791.75, 102872.51,\n",
       "       101335.6, 43845.83, 102477.05, 102620.37, -23705.39, 102926.83,\n",
       "       102920.25, 102739.82, 102902.21, 67067.06, 102313.52, 102888.81,\n",
       "       102051.16, 102757.65, 102625.24, 102460.97, 102793.37, 102740.62,\n",
       "       102123.98, 102555.85, 102139.35, 102675.21, 102309.35, 101214.91,\n",
       "       102388, 102895.61, 102499.79, 51591.84, 102865.01, 100873.71,\n",
       "       102457.02, 102657.3, 100990.46, 102209.96, 102389.59, 102792.84,\n",
       "       102325.86, 102561.99, 102819.34, 102894.4, 102526.87, 102870.35,\n",
       "       102888.22, 102118.61, 102549.47, 101219.96, 102623.75, 102235.31,\n",
       "       101136.53, 102693.64, 102786.57, 102513.45, 102898.43, 69144.95,\n",
       "       102154.54, 102279.51, 102194.7, 102932.14, 102703.04, 102565.77,\n",
       "       102846.11, 102941.86, 102118.95, 102875.83, 64826.45, 102720.46,\n",
       "       102675.7, 102486.38, 102501.33, 101148.39, 78170.53, 102444,\n",
       "       102210.37, 1025.01, 102587.31, 102357.58, 101357.13, 102218.2,\n",
       "       102814.83, 102722.83, 102140.82, 102896.37, 102396.39, 102888.96,\n",
       "       102514.52, 102240.24, 102331.05, 102785.57, 102389.97, 102700.83,\n",
       "       102618.97, 102322.77, 102887.18, 101048.77, 102615.8, 102757.51,\n",
       "       102937.28, 102686.09, 102452.1, 102915.74, 102339.93, -19114.56,\n",
       "       102833.57, 102914.97, 102467.12, 102330.22, 101059.34, 102054.02,\n",
       "       102616.5, 102758.65, 102890.6, 102154.43, 77529.48, 102606.98,\n",
       "       102689.83, 62843.57, 61246.01, 102312.03, 102485.99, 103041.14,\n",
       "       102679.01, 101294.99, 102038.77, 102419.78, 51618.59, 102877.99,\n",
       "       102534.35, 102963.88, 102928.52, 101975.78, 102206.11, 102632.3,\n",
       "       102682.89, 102215.87, 102413.25, 102686.72, 102890.89, 102890.03,\n",
       "       102749.8, 102810.51, 102728.6, 102768.84, 102516.16, 102343.48,\n",
       "       101233.42, 102729.07, 101962.08, 101707.45, 102475.56, 155628.28,\n",
       "       102892.18, 102892.25, 102428.95, 100174.61, 102493.46, 102581.24,\n",
       "       102522.06, 102365.58, 101293.2, 102920.41, 102836.47, 102917.72,\n",
       "       102804.98, 102462.55, 102165.54, 102206.24, 101849.44, 102809.72,\n",
       "       103001.75, 102197.38, 68401.37, 102822.73, 102707.34, 102876.87,\n",
       "       102770.78, 101182.03, 102707.25, 102326.76, 102637.17, 102874.47,\n",
       "       102156.83, 102429.69, 102842.84, 102678.65, 102676.33, 102532.12,\n",
       "       102854.99, 102081.19, 102811.76, 101994.11, 101171.22, 102890.05,\n",
       "       102817.05, 102705.21, 102578.09, 102210.04, 102605.9, 102615.5,\n",
       "       102527.06, 102399.23, 102815.68, 102886.58, 102690.4, 102617.71,\n",
       "       102192.72, 100820, 102755.12, 102320.38, 102872.28, 102720.71,\n",
       "       102808.85, 102439.48, 102126.69, 102727.54, 102048.15, 102382.4,\n",
       "       102544.36, 101362.53, 102683.68, 102607.1, 102381.41, 102662.13,\n",
       "       102631.98, 102884.57, 102319.4, 102896.48, 51698.86, 101192.8,\n",
       "       102392.35, 78143.54, 102570, 102355.76, 102961.89, 102441.93,\n",
       "       102704.15, 102830.02, 44033.76, 102477.47, 102897.99, 102951.36,\n",
       "       102923.97, 102795.21, 102897.84, -23726.39, 102921.08, 102544.68,\n",
       "       102754.19, 102049.37, 102882.1, 102818.5, 102608.93, 102798.09,\n",
       "       101190.01, 102760.86, 102740.45, 102202.94, 102892.89, 102528.98,\n",
       "       102530.18, 102206.9, 102177.86, 102817.8, 102401.24, 102115.69,\n",
       "       102673.22, 102614.76, 102350.95, 100852.32, 102508.12, 102655.11,\n",
       "       101160.64, 102435.6, 102713.12, 102820.63, 102868.09, 102888.82,\n",
       "       102484.47, 101018.45, 102856.85, 102792.39, 102711.48, 102891.55,\n",
       "       102643.89, 101138.5, 102674.63, 102701.62, 102891.3, 102876.86,\n",
       "       102913.79, 102240.81, 102255.66, 102509.58, 102825.23, 102292.66,\n",
       "       101325.1, 102198.57, 102789.48, 102572.72, 102399.92, 102953.44,\n",
       "       102840.7, 101048.35, 102293.33, 102924.84, 102208.51, 102112.09,\n",
       "       102535.24, 102317.04, 102880.83, 102866.45, 102509.03, 102508.61,\n",
       "       102590.79, 101179.22, 102284.62, 102341.04, 101478.73, 102130.26,\n",
       "       102314.48, 51752.36, 102724.05, 102213.32, 102750.29, 102895.53,\n",
       "       102886.74, 102613.97, 102761.09, 102609.62, 102937.04, 102472.34,\n",
       "       102503.36, 102047.3, 102668.08, 102337.18, 102923.9, 102466.65,\n",
       "       102914.99, 102824.46, 101067.4, 102831.03, 102891.28, 101243.06,\n",
       "       1051.85, 102613.98, 102751.87, 102324.9, 102140.78, 102591.3,\n",
       "       1051.29, 102754.87, 102211.74, 102522.09, 102392.96, 102596.2,\n",
       "       102700.09, 102672.18, 101994.01, 102482.52, 102887.29, 103055.77,\n",
       "       102888.72, 102533.75, 102932.96, 102938.65, 101978.52, 102715.8,\n",
       "       102321.61, 102420.47, 101298.1, 102685.83, 102126.52, 102533.35,\n",
       "       102758.84, 102405.77, 100843.45, 102722.28, 102345.84, 102761.04,\n",
       "       102222.01, 102811.99, 102730.45, 102885.36, 102705.74, 78114.49,\n",
       "       101960.39, 102890.65, 155576.7, 102517.9, 100188.75, 102641.06,\n",
       "       102889.78, 102331.75, 102917.95, 102331.88, 102671.69, 102835.41,\n",
       "       101279.92, 102474.88, 102820.72, 1052.46, 102919.89, 102742.47,\n",
       "       102371.08, 102395.89, 101845.38, 102786.45, 68390.67, 102882.17,\n",
       "       102317.37, 1055.05, 102526.14, 102890.04, 102197.63, 102159.67,\n",
       "       102207.06, 102527.73, 102415.8, 102827.23, 102634.8, 102292.25,\n",
       "       102635.66, 102848.82, 102208.52, 102877.7, 102089.55, 102387.38,\n",
       "       102857.4, 51844.98, 102325.16, 102572.25, 102360.13, 102164.47,\n",
       "       102598.1, 100803.65, 102544.53, 102870.39, 102819.29, 102886.17,\n",
       "       102882.04, 102198.25, 102191.15, 102861.26, 102884.61, 102738.75,\n",
       "       102386.41, 102050.68, 102886.45, 102051.69, 101711.55, 102817.69,\n",
       "       102531.74, 102443.78, 101392.75, 102746.09, 102612.45, 102803.43,\n",
       "       101231.55, 102712.47, 102691.97, 102674.88, 102547.54, 102676.63,\n",
       "       102628.28, 102530.41, 102404.48, 102209.09, 102717.73, 1024.91,\n",
       "       102670.95, 103009.15, 102885.35, 102703.01, 102896.94, 102572.64,\n",
       "       102941.92, 102831.42, 102914.09, 44149.39, -23720.27, 102479.76,\n",
       "       102480.42], dtype=object)"
      ]
     },
     "execution_count": 59,
     "metadata": {},
     "output_type": "execute_result"
    }
   ],
   "source": [
    "df_pivot['pressure_at_sealevel'].unique()"
   ]
  },
  {
   "cell_type": "code",
   "execution_count": 55,
   "metadata": {},
   "outputs": [],
   "source": [
    "df_pivot.to_csv('sensorc.csv')"
   ]
  },
  {
   "cell_type": "code",
   "execution_count": 54,
   "metadata": {},
   "outputs": [
    {
     "data": {
      "text/html": [
       "<div>\n",
       "<style scoped>\n",
       "    .dataframe tbody tr th:only-of-type {\n",
       "        vertical-align: middle;\n",
       "    }\n",
       "\n",
       "    .dataframe tbody tr th {\n",
       "        vertical-align: top;\n",
       "    }\n",
       "\n",
       "    .dataframe thead th {\n",
       "        text-align: right;\n",
       "    }\n",
       "</style>\n",
       "<table border=\"1\" class=\"dataframe\">\n",
       "  <thead>\n",
       "    <tr style=\"text-align: right;\">\n",
       "      <th></th>\n",
       "      <th>id</th>\n",
       "      <th>long</th>\n",
       "      <th>lat</th>\n",
       "      <th>indoor</th>\n",
       "      <th>P0</th>\n",
       "      <th>P1</th>\n",
       "      <th>P2</th>\n",
       "      <th>counts_per_minute</th>\n",
       "      <th>humidity</th>\n",
       "      <th>noise_LA_max</th>\n",
       "      <th>noise_LA_min</th>\n",
       "      <th>noise_LAeq</th>\n",
       "      <th>pressure</th>\n",
       "      <th>pressure_at_sealevel</th>\n",
       "      <th>temperature</th>\n",
       "    </tr>\n",
       "  </thead>\n",
       "  <tbody>\n",
       "    <tr>\n",
       "      <th>0</th>\n",
       "      <td>20232739719</td>\n",
       "      <td>37.71</td>\n",
       "      <td>55.652</td>\n",
       "      <td>0</td>\n",
       "      <td>NaN</td>\n",
       "      <td>6.20</td>\n",
       "      <td>2.80</td>\n",
       "      <td>NaN</td>\n",
       "      <td>NaN</td>\n",
       "      <td>NaN</td>\n",
       "      <td>NaN</td>\n",
       "      <td>NaN</td>\n",
       "      <td>NaN</td>\n",
       "      <td>NaN</td>\n",
       "      <td>NaN</td>\n",
       "    </tr>\n",
       "    <tr>\n",
       "      <th>1</th>\n",
       "      <td>20232739748</td>\n",
       "      <td>37.864</td>\n",
       "      <td>55.63</td>\n",
       "      <td>0</td>\n",
       "      <td>NaN</td>\n",
       "      <td>2.63</td>\n",
       "      <td>1.60</td>\n",
       "      <td>NaN</td>\n",
       "      <td>NaN</td>\n",
       "      <td>NaN</td>\n",
       "      <td>NaN</td>\n",
       "      <td>NaN</td>\n",
       "      <td>NaN</td>\n",
       "      <td>NaN</td>\n",
       "      <td>NaN</td>\n",
       "    </tr>\n",
       "    <tr>\n",
       "      <th>2</th>\n",
       "      <td>20232739799</td>\n",
       "      <td>37.928</td>\n",
       "      <td>59.082</td>\n",
       "      <td>0</td>\n",
       "      <td>NaN</td>\n",
       "      <td>1.20</td>\n",
       "      <td>0.90</td>\n",
       "      <td>NaN</td>\n",
       "      <td>NaN</td>\n",
       "      <td>NaN</td>\n",
       "      <td>NaN</td>\n",
       "      <td>NaN</td>\n",
       "      <td>NaN</td>\n",
       "      <td>NaN</td>\n",
       "      <td>NaN</td>\n",
       "    </tr>\n",
       "    <tr>\n",
       "      <th>3</th>\n",
       "      <td>20232739831</td>\n",
       "      <td>73.504</td>\n",
       "      <td>54.918</td>\n",
       "      <td>0</td>\n",
       "      <td>NaN</td>\n",
       "      <td>NaN</td>\n",
       "      <td>NaN</td>\n",
       "      <td>NaN</td>\n",
       "      <td>51.39</td>\n",
       "      <td>NaN</td>\n",
       "      <td>NaN</td>\n",
       "      <td>NaN</td>\n",
       "      <td>99823.69</td>\n",
       "      <td>101196.09</td>\n",
       "      <td>19.65</td>\n",
       "    </tr>\n",
       "    <tr>\n",
       "      <th>4</th>\n",
       "      <td>20232739938</td>\n",
       "      <td>37.73473531008</td>\n",
       "      <td>55.60194616744</td>\n",
       "      <td>0</td>\n",
       "      <td>NaN</td>\n",
       "      <td>4.00</td>\n",
       "      <td>2.95</td>\n",
       "      <td>NaN</td>\n",
       "      <td>NaN</td>\n",
       "      <td>NaN</td>\n",
       "      <td>NaN</td>\n",
       "      <td>NaN</td>\n",
       "      <td>NaN</td>\n",
       "      <td>NaN</td>\n",
       "      <td>NaN</td>\n",
       "    </tr>\n",
       "    <tr>\n",
       "      <th>...</th>\n",
       "      <td>...</td>\n",
       "      <td>...</td>\n",
       "      <td>...</td>\n",
       "      <td>...</td>\n",
       "      <td>...</td>\n",
       "      <td>...</td>\n",
       "      <td>...</td>\n",
       "      <td>...</td>\n",
       "      <td>...</td>\n",
       "      <td>...</td>\n",
       "      <td>...</td>\n",
       "      <td>...</td>\n",
       "      <td>...</td>\n",
       "      <td>...</td>\n",
       "      <td>...</td>\n",
       "    </tr>\n",
       "    <tr>\n",
       "      <th>1436</th>\n",
       "      <td>20232789880</td>\n",
       "      <td>37.894</td>\n",
       "      <td>59.134</td>\n",
       "      <td>0</td>\n",
       "      <td>NaN</td>\n",
       "      <td>8.38</td>\n",
       "      <td>2.72</td>\n",
       "      <td>NaN</td>\n",
       "      <td>NaN</td>\n",
       "      <td>NaN</td>\n",
       "      <td>NaN</td>\n",
       "      <td>NaN</td>\n",
       "      <td>NaN</td>\n",
       "      <td>NaN</td>\n",
       "      <td>NaN</td>\n",
       "    </tr>\n",
       "    <tr>\n",
       "      <th>1437</th>\n",
       "      <td>20232789886</td>\n",
       "      <td>38.51695060730</td>\n",
       "      <td>54.85361578212</td>\n",
       "      <td>0</td>\n",
       "      <td>NaN</td>\n",
       "      <td>NaN</td>\n",
       "      <td>NaN</td>\n",
       "      <td>NaN</td>\n",
       "      <td>100.00</td>\n",
       "      <td>NaN</td>\n",
       "      <td>NaN</td>\n",
       "      <td>NaN</td>\n",
       "      <td>-23370.19</td>\n",
       "      <td>-23720.27</td>\n",
       "      <td>3.74</td>\n",
       "    </tr>\n",
       "    <tr>\n",
       "      <th>1438</th>\n",
       "      <td>20232789893</td>\n",
       "      <td>37.934</td>\n",
       "      <td>59.144</td>\n",
       "      <td>0</td>\n",
       "      <td>NaN</td>\n",
       "      <td>9.73</td>\n",
       "      <td>5.07</td>\n",
       "      <td>NaN</td>\n",
       "      <td>NaN</td>\n",
       "      <td>NaN</td>\n",
       "      <td>NaN</td>\n",
       "      <td>NaN</td>\n",
       "      <td>NaN</td>\n",
       "      <td>NaN</td>\n",
       "      <td>NaN</td>\n",
       "    </tr>\n",
       "    <tr>\n",
       "      <th>1439</th>\n",
       "      <td>20232789894</td>\n",
       "      <td>37.46</td>\n",
       "      <td>55.698</td>\n",
       "      <td>0</td>\n",
       "      <td>NaN</td>\n",
       "      <td>NaN</td>\n",
       "      <td>NaN</td>\n",
       "      <td>NaN</td>\n",
       "      <td>32.28</td>\n",
       "      <td>NaN</td>\n",
       "      <td>NaN</td>\n",
       "      <td>NaN</td>\n",
       "      <td>100633.69</td>\n",
       "      <td>102479.76</td>\n",
       "      <td>18.91</td>\n",
       "    </tr>\n",
       "    <tr>\n",
       "      <th>1440</th>\n",
       "      <td>20232789903</td>\n",
       "      <td>41.094</td>\n",
       "      <td>56.928</td>\n",
       "      <td>0</td>\n",
       "      <td>NaN</td>\n",
       "      <td>NaN</td>\n",
       "      <td>NaN</td>\n",
       "      <td>NaN</td>\n",
       "      <td>25.36</td>\n",
       "      <td>NaN</td>\n",
       "      <td>NaN</td>\n",
       "      <td>NaN</td>\n",
       "      <td>101238.78</td>\n",
       "      <td>102480.42</td>\n",
       "      <td>22.97</td>\n",
       "    </tr>\n",
       "  </tbody>\n",
       "</table>\n",
       "<p>1441 rows × 15 columns</p>\n",
       "</div>"
      ],
      "text/plain": [
       "               id            long             lat  indoor   P0    P1    P2  \\\n",
       "0     20232739719           37.71          55.652       0  NaN  6.20  2.80   \n",
       "1     20232739748          37.864           55.63       0  NaN  2.63  1.60   \n",
       "2     20232739799          37.928          59.082       0  NaN  1.20  0.90   \n",
       "3     20232739831          73.504          54.918       0  NaN   NaN   NaN   \n",
       "4     20232739938  37.73473531008  55.60194616744       0  NaN  4.00  2.95   \n",
       "...           ...             ...             ...     ...  ...   ...   ...   \n",
       "1436  20232789880          37.894          59.134       0  NaN  8.38  2.72   \n",
       "1437  20232789886  38.51695060730  54.85361578212       0  NaN   NaN   NaN   \n",
       "1438  20232789893          37.934          59.144       0  NaN  9.73  5.07   \n",
       "1439  20232789894           37.46          55.698       0  NaN   NaN   NaN   \n",
       "1440  20232789903          41.094          56.928       0  NaN   NaN   NaN   \n",
       "\n",
       "     counts_per_minute humidity noise_LA_max noise_LA_min noise_LAeq  \\\n",
       "0                  NaN      NaN          NaN          NaN        NaN   \n",
       "1                  NaN      NaN          NaN          NaN        NaN   \n",
       "2                  NaN      NaN          NaN          NaN        NaN   \n",
       "3                  NaN    51.39          NaN          NaN        NaN   \n",
       "4                  NaN      NaN          NaN          NaN        NaN   \n",
       "...                ...      ...          ...          ...        ...   \n",
       "1436               NaN      NaN          NaN          NaN        NaN   \n",
       "1437               NaN   100.00          NaN          NaN        NaN   \n",
       "1438               NaN      NaN          NaN          NaN        NaN   \n",
       "1439               NaN    32.28          NaN          NaN        NaN   \n",
       "1440               NaN    25.36          NaN          NaN        NaN   \n",
       "\n",
       "       pressure pressure_at_sealevel temperature  \n",
       "0           NaN                  NaN         NaN  \n",
       "1           NaN                  NaN         NaN  \n",
       "2           NaN                  NaN         NaN  \n",
       "3      99823.69            101196.09       19.65  \n",
       "4           NaN                  NaN         NaN  \n",
       "...         ...                  ...         ...  \n",
       "1436        NaN                  NaN         NaN  \n",
       "1437  -23370.19            -23720.27        3.74  \n",
       "1438        NaN                  NaN         NaN  \n",
       "1439  100633.69            102479.76       18.91  \n",
       "1440  101238.78            102480.42       22.97  \n",
       "\n",
       "[1441 rows x 15 columns]"
      ]
     },
     "execution_count": 54,
     "metadata": {},
     "output_type": "execute_result"
    }
   ],
   "source": [
    "df_pivot"
   ]
  },
  {
   "cell_type": "code",
   "execution_count": null,
   "metadata": {},
   "outputs": [],
   "source": []
  }
 ],
 "metadata": {
  "kernelspec": {
   "display_name": "Python 3",
   "language": "python",
   "name": "python3"
  },
  "language_info": {
   "codemirror_mode": {
    "name": "ipython",
    "version": 3
   },
   "file_extension": ".py",
   "mimetype": "text/x-python",
   "name": "python",
   "nbconvert_exporter": "python",
   "pygments_lexer": "ipython3",
   "version": "3.12.2"
  }
 },
 "nbformat": 4,
 "nbformat_minor": 2
}
